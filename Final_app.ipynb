{
 "cells": [
  {
   "cell_type": "code",
   "execution_count": null,
   "id": "a650492e",
   "metadata": {},
   "outputs": [],
   "source": [
    "! pip install pillow tensorflow gradio\n"
   ]
  },
  {
   "cell_type": "code",
   "execution_count": null,
   "id": "d55b60ca",
   "metadata": {},
   "outputs": [],
   "source": [
    "import gradio as gr\n",
    "import numpy as np\n",
    "import tensorflow as tf\n",
    "from tensorflow.keras.preprocessing import image\n",
    "from tensorflow.keras.applications.mobilenet_v2 import preprocess_input\n",
    "from PIL import Image   "
   ]
  },
  {
   "cell_type": "code",
   "execution_count": null,
   "id": "0533e525",
   "metadata": {},
   "outputs": [],
   "source": [
    "# Load the trained model\n",
    "model = tf.keras.models.load_model(\"alzymers_Model_64.h5\")\n",
    "\n",
    "# Class labels\n",
    "class_labels = ['Mild Demented', 'Moderate Demented', 'Non Demented', 'Very Mild Demented']"
   ]
  },
  {
   "cell_type": "code",
   "execution_count": null,
   "id": "3c999568",
   "metadata": {},
   "outputs": [],
   "source": [
    "def predict_alzheimers(img):\n",
    "    # Convert PIL image to numpy array\n",
    "    img = img.resize((64, 64))  # Resize to match model input size\n",
    "    img_array = image.img_to_array(img)\n",
    "    img_array = np.expand_dims(img_array, axis=0)  # Expand dims for batch\n",
    "    img_array = preprocess_input(img_array)  # Apply MobileNetV2 preprocessing\n",
    "    \n",
    "    # Predict\n",
    "    predictions = model.predict(img_array)\n",
    "    \n",
    "    class_idx = np.argmax(predictions)\n",
    "    confidence = np.max(predictions)\n",
    "    class_name = class_labels[class_idx]\n",
    "    print(predictions,class_idx)\n",
    "    \n",
    "    return {class_name: float(confidence)}"
   ]
  },
  {
   "cell_type": "code",
   "execution_count": null,
   "id": "ae8e2b48",
   "metadata": {},
   "outputs": [],
   "source": [
    "gui = gr.Interface(\n",
    "    fn=predict_alzheimers,\n",
    "    inputs=gr.Image(type=\"pil\"),\n",
    "    outputs=gr.Label(), \n",
    "    title=\"Alzheimer’s Disease Classification\",\n",
    "    description=\"Upload an MRI scan to predict the Alzheimer's stage.\"\n",
    ")\n",
    "\n",
    "gui.launch(inbrowser=True)"
   ]
  }
 ],
 "metadata": {
  "language_info": {
   "name": "python"
  }
 },
 "nbformat": 4,
 "nbformat_minor": 5
}
